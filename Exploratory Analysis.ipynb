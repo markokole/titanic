{
 "cells": [
  {
   "cell_type": "markdown",
   "metadata": {},
   "source": [
    "The first part of the notebook focuses on understanding the data by visualizing it and feature engineering. Feature engineering is a part of the data science job where the features (attributes like name, age, salary...) are being manipulated and result in new features which can further be used in the machine learning part of the data science project.\n",
    "\n",
    "Feature engineering is also covering transforming text values into numerical values. Normalizing data is also a common or a must-do process because many algorithms perform better on normalized data. Solving challenges with missing values in the dataset is also a vital part."
   ]
  },
  {
   "cell_type": "code",
   "execution_count": 18,
   "metadata": {
    "collapsed": true
   },
   "outputs": [],
   "source": [
    "import pandas as pd\n",
    "import numpy as np\n",
    "import matplotlib.pyplot as plt\n",
    "import matplotlib as mpl\n",
    "from sklearn.preprocessing import LabelEncoder\n",
    "from sklearn.preprocessing import StandardScaler"
   ]
  },
  {
   "cell_type": "code",
   "execution_count": 19,
   "metadata": {
    "collapsed": true
   },
   "outputs": [],
   "source": [
    "%matplotlib inline"
   ]
  },
  {
   "cell_type": "code",
   "execution_count": 20,
   "metadata": {
    "collapsed": true
   },
   "outputs": [],
   "source": [
    "#data used for training the model\n",
    "file_train_data = \"/user/marko/kaggle/titanic/data/train.csv\"\n",
    "train_df = pd.read_csv(file_train_data, sep=\",\", header=0)"
   ]
  },
  {
   "cell_type": "markdown",
   "metadata": {},
   "source": [
    "<h2>Basic information about the training dataset</h2>"
   ]
  },
  {
   "cell_type": "code",
   "execution_count": 21,
   "metadata": {},
   "outputs": [
    {
     "name": "stdout",
     "output_type": "stream",
     "text": [
      "<class 'pandas.core.frame.DataFrame'>\n",
      "RangeIndex: 891 entries, 0 to 890\n",
      "Data columns (total 12 columns):\n",
      "PassengerId    891 non-null int64\n",
      "Survived       891 non-null int64\n",
      "Pclass         891 non-null int64\n",
      "Name           891 non-null object\n",
      "Sex            891 non-null object\n",
      "Age            714 non-null float64\n",
      "SibSp          891 non-null int64\n",
      "Parch          891 non-null int64\n",
      "Ticket         891 non-null object\n",
      "Fare           891 non-null float64\n",
      "Cabin          204 non-null object\n",
      "Embarked       889 non-null object\n",
      "dtypes: float64(2), int64(5), object(5)\n",
      "memory usage: 83.6+ KB\n"
     ]
    }
   ],
   "source": [
    "train_df.info()"
   ]
  },
  {
   "cell_type": "code",
   "execution_count": 22,
   "metadata": {},
   "outputs": [
    {
     "data": {
      "text/html": [
       "<div>\n",
       "<style>\n",
       "    .dataframe thead tr:only-child th {\n",
       "        text-align: right;\n",
       "    }\n",
       "\n",
       "    .dataframe thead th {\n",
       "        text-align: left;\n",
       "    }\n",
       "\n",
       "    .dataframe tbody tr th {\n",
       "        vertical-align: top;\n",
       "    }\n",
       "</style>\n",
       "<table border=\"1\" class=\"dataframe\">\n",
       "  <thead>\n",
       "    <tr style=\"text-align: right;\">\n",
       "      <th></th>\n",
       "      <th>PassengerId</th>\n",
       "      <th>Survived</th>\n",
       "      <th>Pclass</th>\n",
       "      <th>Age</th>\n",
       "      <th>SibSp</th>\n",
       "      <th>Parch</th>\n",
       "      <th>Fare</th>\n",
       "    </tr>\n",
       "  </thead>\n",
       "  <tbody>\n",
       "    <tr>\n",
       "      <th>count</th>\n",
       "      <td>891.000000</td>\n",
       "      <td>891.000000</td>\n",
       "      <td>891.000000</td>\n",
       "      <td>714.000000</td>\n",
       "      <td>891.000000</td>\n",
       "      <td>891.000000</td>\n",
       "      <td>891.000000</td>\n",
       "    </tr>\n",
       "    <tr>\n",
       "      <th>mean</th>\n",
       "      <td>446.000000</td>\n",
       "      <td>0.383838</td>\n",
       "      <td>2.308642</td>\n",
       "      <td>29.699118</td>\n",
       "      <td>0.523008</td>\n",
       "      <td>0.381594</td>\n",
       "      <td>32.204208</td>\n",
       "    </tr>\n",
       "    <tr>\n",
       "      <th>std</th>\n",
       "      <td>257.353842</td>\n",
       "      <td>0.486592</td>\n",
       "      <td>0.836071</td>\n",
       "      <td>14.526497</td>\n",
       "      <td>1.102743</td>\n",
       "      <td>0.806057</td>\n",
       "      <td>49.693429</td>\n",
       "    </tr>\n",
       "    <tr>\n",
       "      <th>min</th>\n",
       "      <td>1.000000</td>\n",
       "      <td>0.000000</td>\n",
       "      <td>1.000000</td>\n",
       "      <td>0.420000</td>\n",
       "      <td>0.000000</td>\n",
       "      <td>0.000000</td>\n",
       "      <td>0.000000</td>\n",
       "    </tr>\n",
       "    <tr>\n",
       "      <th>25%</th>\n",
       "      <td>223.500000</td>\n",
       "      <td>0.000000</td>\n",
       "      <td>2.000000</td>\n",
       "      <td>20.125000</td>\n",
       "      <td>0.000000</td>\n",
       "      <td>0.000000</td>\n",
       "      <td>7.910400</td>\n",
       "    </tr>\n",
       "    <tr>\n",
       "      <th>50%</th>\n",
       "      <td>446.000000</td>\n",
       "      <td>0.000000</td>\n",
       "      <td>3.000000</td>\n",
       "      <td>28.000000</td>\n",
       "      <td>0.000000</td>\n",
       "      <td>0.000000</td>\n",
       "      <td>14.454200</td>\n",
       "    </tr>\n",
       "    <tr>\n",
       "      <th>75%</th>\n",
       "      <td>668.500000</td>\n",
       "      <td>1.000000</td>\n",
       "      <td>3.000000</td>\n",
       "      <td>38.000000</td>\n",
       "      <td>1.000000</td>\n",
       "      <td>0.000000</td>\n",
       "      <td>31.000000</td>\n",
       "    </tr>\n",
       "    <tr>\n",
       "      <th>max</th>\n",
       "      <td>891.000000</td>\n",
       "      <td>1.000000</td>\n",
       "      <td>3.000000</td>\n",
       "      <td>80.000000</td>\n",
       "      <td>8.000000</td>\n",
       "      <td>6.000000</td>\n",
       "      <td>512.329200</td>\n",
       "    </tr>\n",
       "  </tbody>\n",
       "</table>\n",
       "</div>"
      ],
      "text/plain": [
       "       PassengerId    Survived      Pclass         Age       SibSp  \\\n",
       "count   891.000000  891.000000  891.000000  714.000000  891.000000   \n",
       "mean    446.000000    0.383838    2.308642   29.699118    0.523008   \n",
       "std     257.353842    0.486592    0.836071   14.526497    1.102743   \n",
       "min       1.000000    0.000000    1.000000    0.420000    0.000000   \n",
       "25%     223.500000    0.000000    2.000000   20.125000    0.000000   \n",
       "50%     446.000000    0.000000    3.000000   28.000000    0.000000   \n",
       "75%     668.500000    1.000000    3.000000   38.000000    1.000000   \n",
       "max     891.000000    1.000000    3.000000   80.000000    8.000000   \n",
       "\n",
       "            Parch        Fare  \n",
       "count  891.000000  891.000000  \n",
       "mean     0.381594   32.204208  \n",
       "std      0.806057   49.693429  \n",
       "min      0.000000    0.000000  \n",
       "25%      0.000000    7.910400  \n",
       "50%      0.000000   14.454200  \n",
       "75%      0.000000   31.000000  \n",
       "max      6.000000  512.329200  "
      ]
     },
     "execution_count": 22,
     "metadata": {},
     "output_type": "execute_result"
    }
   ],
   "source": [
    "train_df.describe()"
   ]
  },
  {
   "cell_type": "code",
   "execution_count": 23,
   "metadata": {},
   "outputs": [
    {
     "data": {
      "text/html": [
       "<div>\n",
       "<style>\n",
       "    .dataframe thead tr:only-child th {\n",
       "        text-align: right;\n",
       "    }\n",
       "\n",
       "    .dataframe thead th {\n",
       "        text-align: left;\n",
       "    }\n",
       "\n",
       "    .dataframe tbody tr th {\n",
       "        vertical-align: top;\n",
       "    }\n",
       "</style>\n",
       "<table border=\"1\" class=\"dataframe\">\n",
       "  <thead>\n",
       "    <tr style=\"text-align: right;\">\n",
       "      <th></th>\n",
       "      <th>PassengerId</th>\n",
       "      <th>Survived</th>\n",
       "      <th>Pclass</th>\n",
       "      <th>Name</th>\n",
       "      <th>Sex</th>\n",
       "      <th>Age</th>\n",
       "      <th>SibSp</th>\n",
       "      <th>Parch</th>\n",
       "      <th>Ticket</th>\n",
       "      <th>Fare</th>\n",
       "      <th>Cabin</th>\n",
       "      <th>Embarked</th>\n",
       "    </tr>\n",
       "  </thead>\n",
       "  <tbody>\n",
       "    <tr>\n",
       "      <th>0</th>\n",
       "      <td>1</td>\n",
       "      <td>0</td>\n",
       "      <td>3</td>\n",
       "      <td>Braund, Mr. Owen Harris</td>\n",
       "      <td>male</td>\n",
       "      <td>22.0</td>\n",
       "      <td>1</td>\n",
       "      <td>0</td>\n",
       "      <td>A/5 21171</td>\n",
       "      <td>7.2500</td>\n",
       "      <td>NaN</td>\n",
       "      <td>S</td>\n",
       "    </tr>\n",
       "    <tr>\n",
       "      <th>1</th>\n",
       "      <td>2</td>\n",
       "      <td>1</td>\n",
       "      <td>1</td>\n",
       "      <td>Cumings, Mrs. John Bradley (Florence Briggs Th...</td>\n",
       "      <td>female</td>\n",
       "      <td>38.0</td>\n",
       "      <td>1</td>\n",
       "      <td>0</td>\n",
       "      <td>PC 17599</td>\n",
       "      <td>71.2833</td>\n",
       "      <td>C85</td>\n",
       "      <td>C</td>\n",
       "    </tr>\n",
       "    <tr>\n",
       "      <th>2</th>\n",
       "      <td>3</td>\n",
       "      <td>1</td>\n",
       "      <td>3</td>\n",
       "      <td>Heikkinen, Miss. Laina</td>\n",
       "      <td>female</td>\n",
       "      <td>26.0</td>\n",
       "      <td>0</td>\n",
       "      <td>0</td>\n",
       "      <td>STON/O2. 3101282</td>\n",
       "      <td>7.9250</td>\n",
       "      <td>NaN</td>\n",
       "      <td>S</td>\n",
       "    </tr>\n",
       "    <tr>\n",
       "      <th>3</th>\n",
       "      <td>4</td>\n",
       "      <td>1</td>\n",
       "      <td>1</td>\n",
       "      <td>Futrelle, Mrs. Jacques Heath (Lily May Peel)</td>\n",
       "      <td>female</td>\n",
       "      <td>35.0</td>\n",
       "      <td>1</td>\n",
       "      <td>0</td>\n",
       "      <td>113803</td>\n",
       "      <td>53.1000</td>\n",
       "      <td>C123</td>\n",
       "      <td>S</td>\n",
       "    </tr>\n",
       "    <tr>\n",
       "      <th>4</th>\n",
       "      <td>5</td>\n",
       "      <td>0</td>\n",
       "      <td>3</td>\n",
       "      <td>Allen, Mr. William Henry</td>\n",
       "      <td>male</td>\n",
       "      <td>35.0</td>\n",
       "      <td>0</td>\n",
       "      <td>0</td>\n",
       "      <td>373450</td>\n",
       "      <td>8.0500</td>\n",
       "      <td>NaN</td>\n",
       "      <td>S</td>\n",
       "    </tr>\n",
       "  </tbody>\n",
       "</table>\n",
       "</div>"
      ],
      "text/plain": [
       "   PassengerId  Survived  Pclass  \\\n",
       "0            1         0       3   \n",
       "1            2         1       1   \n",
       "2            3         1       3   \n",
       "3            4         1       1   \n",
       "4            5         0       3   \n",
       "\n",
       "                                                Name     Sex   Age  SibSp  \\\n",
       "0                            Braund, Mr. Owen Harris    male  22.0      1   \n",
       "1  Cumings, Mrs. John Bradley (Florence Briggs Th...  female  38.0      1   \n",
       "2                             Heikkinen, Miss. Laina  female  26.0      0   \n",
       "3       Futrelle, Mrs. Jacques Heath (Lily May Peel)  female  35.0      1   \n",
       "4                           Allen, Mr. William Henry    male  35.0      0   \n",
       "\n",
       "   Parch            Ticket     Fare Cabin Embarked  \n",
       "0      0         A/5 21171   7.2500   NaN        S  \n",
       "1      0          PC 17599  71.2833   C85        C  \n",
       "2      0  STON/O2. 3101282   7.9250   NaN        S  \n",
       "3      0            113803  53.1000  C123        S  \n",
       "4      0            373450   8.0500   NaN        S  "
      ]
     },
     "execution_count": 23,
     "metadata": {},
     "output_type": "execute_result"
    }
   ],
   "source": [
    "train_df.head(5)"
   ]
  },
  {
   "cell_type": "code",
   "execution_count": 24,
   "metadata": {
    "collapsed": true
   },
   "outputs": [],
   "source": [
    "#drop PassengerId\n",
    "train_df = train_df.drop(\"PassengerId\", axis=1)"
   ]
  },
  {
   "cell_type": "markdown",
   "metadata": {},
   "source": [
    "<h2>Data Visualization and Exploration</h2>"
   ]
  },
  {
   "cell_type": "markdown",
   "metadata": {},
   "source": [
    "<h3>Survived</h3>"
   ]
  },
  {
   "cell_type": "code",
   "execution_count": 25,
   "metadata": {},
   "outputs": [
    {
     "data": {
      "text/plain": [
       "<matplotlib.axes.AxesSubplot at 0x7f02ca4cea10>"
      ]
     },
     "execution_count": 25,
     "metadata": {},
     "output_type": "execute_result"
    },
    {
     "data": {
      "image/png": "[encoded data removed]",
      "text/plain": [
       "<matplotlib.figure.Figure at 0x7f02ca7cd910>"
      ]
     },
     "metadata": {},
     "output_type": "display_data"
    }
   ],
   "source": [
    "##survived vs not survived\n",
    "\n",
    "#group by on Survived\n",
    "survived_df = train_df.groupby(\"Survived\")[\"Survived\"].count()\n",
    "#number of instances, convert to float to get decimal\n",
    "no_of_instances = float(len(train_df))\n",
    "#create labels for chart\n",
    "labels = [\"Not survived\", \"Survived\"]\n",
    "#fontsize in the chart\n",
    "mpl.rcParams['font.size'] = 12.0\n",
    "#output the chart\n",
    "survived_df.plot.pie(labels=labels, colors=[\"red\", \"green\"], autopct='%1.2f%%', startangle=180)"
   ]
  },
  {
   "cell_type": "markdown",
   "metadata": {},
   "source": [
    "<h3>Survived grouped by gender</h3>"
   ]
  },
  {
   "cell_type": "code",
   "execution_count": 26,
   "metadata": {},
   "outputs": [
    {
     "name": "stdout",
     "output_type": "stream",
     "text": [
      "[468, 109]\n"
     ]
    },
    {
     "data": {
      "image/png": "[encoded data removed]",
      "text/plain": [
       "<matplotlib.figure.Figure at 0x7f02ca829950>"
      ]
     },
     "metadata": {},
     "output_type": "display_data"
    }
   ],
   "source": [
    "##survived grouped by gender\n",
    "#data for male values\n",
    "survived_male_list = list(train_df.loc[train_df[\"Sex\"] == \"male\"].groupby([\"Survived\"])[\"Survived\"].count())\n",
    "print(survived_male_list)\n",
    "#data for female values\n",
    "survived_female_list = list(train_df.loc[train_df[\"Sex\"] == \"female\"].groupby([\"Survived\"])[\"Survived\"].count())\n",
    "\n",
    "survive_status = ['Not survived', 'Survived']\n",
    "gender_list = ['Men', 'Women']\n",
    "N = 2\n",
    "ind = np.arange(N)\n",
    "width = 0.3\n",
    "p1 = plt.bar(ind, survived_male_list, width=width, color=\"blue\")\n",
    "p2 = plt.bar(ind, survived_female_list, width=width, color=\"red\", bottom=survived_male_list)\n",
    "plt.xticks(ind, (survive_status))\n",
    "plt.legend((p1[0], p2[0]), (gender_list))\n",
    "\n",
    "the_table = plt.table(cellText=[survived_male_list, survived_female_list],\n",
    "                      rowLabels=gender_list,\n",
    "                      colLabels=survive_status,\n",
    "                      bbox=[0.25, -0.5, 0.5, 0.3])\n"
   ]
  },
  {
   "cell_type": "markdown",
   "metadata": {},
   "source": [
    "<h3>Survived grouped by Class</h3>"
   ]
  },
  {
   "cell_type": "code",
   "execution_count": 27,
   "metadata": {},
   "outputs": [
    {
     "data": {
      "image/png": "[encoded data removed]",
      "text/plain": [
       "<matplotlib.figure.Figure at 0x7f02ca463110>"
      ]
     },
     "metadata": {},
     "output_type": "display_data"
    }
   ],
   "source": [
    "##survived grouped by class\n",
    "#data for 1 values\n",
    "survived_class_1_list = np.array(train_df.loc[train_df[\"Pclass\"] == 1].groupby([\"Survived\"])[\"Survived\"].count())\n",
    "#data for 2 values\n",
    "survived_class_2_list = np.array(train_df.loc[train_df[\"Pclass\"] == 2].groupby([\"Survived\"])[\"Survived\"].count())\n",
    "#data for 3 values\n",
    "survived_class_3_list = np.array(train_df.loc[train_df[\"Pclass\"] == 3].groupby([\"Survived\"])[\"Survived\"].count())\n",
    "\n",
    "survive_status = ['Not survived', 'Survived']\n",
    "class_list = [1,2,3]\n",
    "\n",
    "N = 2\n",
    "ind = np.arange(N)\n",
    "width = 0.3\n",
    "p3 = plt.bar(ind, survived_class_3_list, width=width, color=\"#7696f7\")\n",
    "p2 = plt.bar(ind, survived_class_2_list, width=width, color=\"#4773f7\", bottom=survived_class_3_list)\n",
    "p1 = plt.bar(ind, survived_class_1_list, width=width, color=\"#021651\", bottom=survived_class_2_list + survived_class_3_list)\n",
    "plt.xticks(ind, (survive_status))\n",
    "plt.legend((p1[0], p2[0], p3[0]), (class_list))\n",
    "\n",
    "the_table = plt.table(cellText=[survived_class_1_list, survived_class_2_list, survived_class_3_list],\n",
    "                      rowLabels=class_list,\n",
    "                      colLabels=survive_status,\n",
    "                      bbox=[0.25, -0.5, 0.5, 0.3])\n"
   ]
  },
  {
   "cell_type": "markdown",
   "metadata": {},
   "source": [
    "<h3>Survived grouped by Embarked</h3>"
   ]
  },
  {
   "cell_type": "code",
   "execution_count": 28,
   "metadata": {},
   "outputs": [
    {
     "data": {
      "image/png": "[encoded data removed]",
      "text/plain": [
       "<matplotlib.figure.Figure at 0x7f02ca5ede10>"
      ]
     },
     "metadata": {},
     "output_type": "display_data"
    }
   ],
   "source": [
    "##survived grouped by embarked\n",
    "#data for C values\n",
    "survived_class_C_list = np.array(train_df.loc[train_df[\"Embarked\"] == \"C\"].groupby([\"Survived\"])[\"Survived\"].count())\n",
    "#data for Q values\n",
    "survived_class_Q_list = np.array(train_df.loc[train_df[\"Embarked\"] == \"Q\"].groupby([\"Survived\"])[\"Survived\"].count())\n",
    "#data for S values\n",
    "survived_class_S_list = np.array(train_df.loc[train_df[\"Embarked\"] == \"S\"].groupby([\"Survived\"])[\"Survived\"].count())\n",
    "\n",
    "\n",
    "survive_status = ['Not survived', 'Survived']\n",
    "class_list = [\"C\", \"Q\", \"S\"]\n",
    "\n",
    "N = 2\n",
    "ind = np.arange(N)\n",
    "width = 0.3\n",
    "p1 = plt.bar(ind, survived_class_C_list, width=width, color=\"blue\")\n",
    "p2 = plt.bar(ind, survived_class_Q_list, width=width, color=\"green\", bottom=survived_class_C_list)\n",
    "p3 = plt.bar(ind, survived_class_S_list, width=width, color=\"yellow\", bottom=survived_class_C_list + survived_class_Q_list)\n",
    "plt.xticks(ind, (survive_status))\n",
    "plt.legend((p1[0], p2[0], p3[0]), (class_list))\n",
    "\n",
    "the_table = plt.table(cellText=[survived_class_C_list, survived_class_Q_list, survived_class_S_list],\n",
    "                      rowLabels=class_list,\n",
    "                      colLabels=survive_status,\n",
    "                      bbox=[0.25, -0.5, 0.5, 0.3])"
   ]
  },
  {
   "cell_type": "markdown",
   "metadata": {},
   "source": [
    "<h2>Feature Engineering</h2>"
   ]
  },
  {
   "cell_type": "markdown",
   "metadata": {},
   "source": [
    "Parse title from Name feature into feature Title"
   ]
  },
  {
   "cell_type": "code",
   "execution_count": 29,
   "metadata": {
    "collapsed": true
   },
   "outputs": [],
   "source": [
    "#parse title from Name feature into new feature\n",
    "def parse_title(n):\n",
    "    titleC = \"\"\n",
    "    s = str(n)\n",
    "    title =s[s.index(\",\") + 2:str(s).index(\".\")]\n",
    "    return title\n",
    "    \n",
    "train_df[\"Title\"] = train_df[\"Name\"].map(lambda x: parse_title(x))"
   ]
  },
  {
   "cell_type": "markdown",
   "metadata": {},
   "source": [
    "Quick and dirty check on Title representation among passengers"
   ]
  },
  {
   "cell_type": "code",
   "execution_count": 30,
   "metadata": {},
   "outputs": [
    {
     "data": {
      "text/plain": [
       "<matplotlib.axes.AxesSubplot at 0x7f02ca7842d0>"
      ]
     },
     "execution_count": 30,
     "metadata": {},
     "output_type": "execute_result"
    },
    {
     "data": {
      "image/png": "[encoded data removed]",
      "text/plain": [
       "<matplotlib.figure.Figure at 0x7f02ca6d4810>"
      ]
     },
     "metadata": {},
     "output_type": "display_data"
    }
   ],
   "source": [
    "title_grouped_df = train_df.groupby(\"Title\")[\"Title\"].count()\n",
    "\n",
    "title_grouped_df.plot.pie(autopct='%1.1f%%', startangle=0)"
   ]
  },
  {
   "cell_type": "markdown",
   "metadata": {},
   "source": [
    "<h3>Calculate survival chance per title</h3>"
   ]
  },
  {
   "cell_type": "code",
   "execution_count": 31,
   "metadata": {},
   "outputs": [
    {
     "name": "stdout",
     "output_type": "stream",
     "text": [
      "           Title  Chance\n",
      "8             Ms  1.0000\n",
      "12          Mlle  1.0000\n",
      "15  the Countess  1.0000\n",
      "7            Mme  1.0000\n",
      "10          Lady  1.0000\n",
      "11           Sir  1.0000\n",
      "1            Mrs  0.7920\n",
      "2           Miss  0.6978\n",
      "3         Master  0.5750\n",
      "13           Col  0.5000\n",
      "9          Major  0.5000\n",
      "6             Dr  0.4286\n",
      "0             Mr  0.1567\n",
      "5            Rev  0.0000\n",
      "14          Capt  0.0000\n",
      "4            Don  0.0000\n",
      "16      Jonkheer  0.0000\n"
     ]
    },
    {
     "data": {
      "text/plain": [
       "<matplotlib.text.Text at 0x7f02ca25ce90>"
      ]
     },
     "execution_count": 31,
     "metadata": {},
     "output_type": "execute_result"
    },
    {
     "data": {
      "image/png": "[encoded data removed]",
      "text/plain": [
       "<matplotlib.figure.Figure at 0x7f02ca269850>"
      ]
     },
     "metadata": {},
     "output_type": "display_data"
    }
   ],
   "source": [
    "#Survived per Title\n",
    "survived_title = pd.DataFrame(train_df.groupby([\"Survived\", \"Title\"])[\"Survived\"].count())\n",
    "#print(survived_title)\n",
    "#print(np.array(survived_title).reshape(-1, 12))\n",
    "\n",
    "df_title_rate = pd.DataFrame()\n",
    "\n",
    "for title in train_df[\"Title\"].unique():\n",
    "    #print(title)\n",
    "    all = train_df[train_df[\"Title\"] == title][\"Title\"].count()\n",
    "    surv = train_df[(train_df[\"Title\"] == title) & (train_df[\"Survived\"] == 1)][\"Title\"].count()\n",
    "    #not_surv = train_df[(train_df[\"Title\"] == title) & (train_df[\"Survived\"] == 0)][\"Title\"].count()\n",
    "    chance_pt = round(float(surv)/all, 4)\n",
    "    tuple = [title, chance_pt]\n",
    "    \n",
    "    #ignore_index=True - \n",
    "    df_title_rate = df_title_rate.append([tuple], ignore_index=True)\n",
    " \n",
    "df_title_rate.columns = ['Title', 'Chance']\n",
    "\n",
    "df_title_rate = df_title_rate.sort_values(\"Chance\", ascending=False)\n",
    "print(df_title_rate)\n",
    "\n",
    "#create an array of numbers for x axis\n",
    "w = 3\n",
    "nitems = df_title_rate[\"Title\"].count()\n",
    "x_axis = np.arange(0, nitems*w, w) \n",
    "\n",
    "fig, ax = plt.subplots()\n",
    "ax.bar(x_axis, df_title_rate[\"Chance\"], width=2, align='center', color='r')\n",
    "ax.set_xticks(x_axis);\n",
    "ax.set_xticklabels(list(df_title_rate[\"Title\"]), rotation=90);\n",
    "ax.set_title('Survival rate per title')\n",
    "ax.set_xlabel('Title')\n",
    "ax.set_ylabel('Rate')"
   ]
  },
  {
   "cell_type": "markdown",
   "metadata": {},
   "source": [
    "Drop feature Name since title has been extracted"
   ]
  },
  {
   "cell_type": "code",
   "execution_count": 32,
   "metadata": {
    "collapsed": true
   },
   "outputs": [],
   "source": [
    "#feature Name can now be dropped\n",
    "train_df = train_df.drop([\"Name\"], axis=1)"
   ]
  },
  {
   "cell_type": "markdown",
   "metadata": {},
   "source": [
    "<h2>Classifying Title</h2>\n",
    "\n",
    "Title can be classified in many ways. Classifying by gender would not make sense since we have gender feature - Sex.\n",
    "\n",
    "One option would be to classify based on the survival rate. This gives feature <i>TitleSurvivalRate</i>.\n",
    "\n",
    "<br>\n",
    "\n",
    "Another feature built \"on top of\" Title has a more socially-biological explanation: Some groups, based on age and gender are worth more than others. For example, children and women are priorities. Among women, women who can potentially give birth are ranked higher.\n",
    "\n",
    "The chart above disproves this since title \"Mrs\" has higher survival rate than \"Miss\". Here is where we move to the social dimension where social status played an important role in that period of time and also on the Titanic.\n",
    "\n",
    "Some titles are occupational titles (Major, Dr,...). I am making an assumption that the reason for lower survival rate for these, socially important classes, lies in the \"proudness\" of the person carrying the title. For example, a Major or a Captain would hesistate to jump on the safety boat before all women and children are safe. \n",
    "\n",
    "However, there is not enough data to confirm this assumption. There are still many more people with title \"Mr\" who did not survived than the \"proud\" titles. The reason might lie in the passenger class distinction - class one was the highest on Titanic, class 3 was the lowest.\n",
    "\n",
    "This new feature shall be named <i>TitleSocialStatus</i>.\n",
    "\n",
    "<hr>"
   ]
  },
  {
   "cell_type": "markdown",
   "metadata": {},
   "source": [
    "Survival rate of passengers with title \"Mr\" was very low. "
   ]
  },
  {
   "cell_type": "code",
   "execution_count": 33,
   "metadata": {},
   "outputs": [
    {
     "data": {
      "text/plain": [
       "<matplotlib.text.Text at 0x7f02ca126fd0>"
      ]
     },
     "execution_count": 33,
     "metadata": {},
     "output_type": "execute_result"
    },
    {
     "data": {
      "image/png": "[encoded data removed]",
      "text/plain": [
       "<matplotlib.figure.Figure at 0x7f02ca5ede50>"
      ]
     },
     "metadata": {},
     "output_type": "display_data"
    }
   ],
   "source": [
    "title_mr_group_by_class = np.array(train_df[train_df[\"Title\"] == \"Mr\"].groupby([\"Pclass\"])[\"Pclass\"].count())\n",
    "#print(title_mr_group_by_class)\n",
    "survived_title_mr_group_by_class = np.array(train_df[(train_df[\"Title\"] == \"Mr\") &(train_df[\"Survived\"] == 0)].groupby([\"Pclass\"])[\"Pclass\"].count())\n",
    "#print(survived_title_mr_group_by_class)\n",
    "\n",
    "width = 0.35\n",
    "N = len(title_mr_group_by_class)\n",
    "ind = np.arange(N)\n",
    "fig, ax = plt.subplots()\n",
    "rect1 = ax.bar(ind, title_mr_group_by_class, width, color=\"b\")\n",
    "rect2 = ax.bar(ind+width, survived_title_mr_group_by_class, width, color=\"r\")\n",
    "ax.set_xticks(ind + width)\n",
    "ax.set_xticklabels(('Class 1', 'Class 2', 'Class 3'))\n",
    "ax.legend((rect1[0], rect2[0]), ('All', 'Not survived'), loc='upper left')\n",
    "ax.set_title('All and not survived passengers with title \"Mr\"')"
   ]
  },
  {
   "cell_type": "markdown",
   "metadata": {},
   "source": [
    "How was title \"Mr\" grouped per feature Pclass and what was survival rate"
   ]
  },
  {
   "cell_type": "markdown",
   "metadata": {},
   "source": [
    "As assumed, there was not a very big difference among classes for title \"Mr\" who did not survive. Although \"Class 1\" had a better chance of surviving and interesting enough, \"Class 3\" had a higher chance of surviving than \"Class 2\". \n",
    "\n",
    "Could it be that servants who worked for \"Class 1\" passengers were taken with their employees on the rescue boats? For example, a nanny travelling in \"Class 3\" would help rescuing a child of a couple from \"Class 1\"."
   ]
  },
  {
   "cell_type": "code",
   "execution_count": 34,
   "metadata": {
    "collapsed": true
   },
   "outputs": [],
   "source": [
    "#create new feature based on survival rate of titles\n",
    "def title_survival_rate(x):\n",
    "    if x >= 1:\n",
    "        return 0\n",
    "    elif x >= 0.75:\n",
    "        return 1\n",
    "    elif x >= 0.60:\n",
    "        return 2\n",
    "    elif x >= 0.55:\n",
    "        return 3\n",
    "    elif x >= 0.40:\n",
    "        return 4\n",
    "    elif x >= 0.1:\n",
    "        return 5\n",
    "    else:\n",
    "        return 6\n",
    "\n",
    "train_df[\"TitleSurvivalRate\"] = df_title_rate[\"Chance\"].map(lambda x:  title_survival_rate(x))"
   ]
  },
  {
   "cell_type": "code",
   "execution_count": 35,
   "metadata": {
    "collapsed": true
   },
   "outputs": [],
   "source": [
    "def title_social_status(title):\n",
    "      \n",
    "    # class divided - detailed\n",
    "    #young boys\n",
    "    if (title in ['Master']):\n",
    "        titleC = 0\n",
    "    #young females - prime of life,\n",
    "    elif (title in ['Mrs', 'Miss', 'Mme', 'Ms', 'Mlle']):\n",
    "        titleC = 1\n",
    "    #older females - high status symbol\n",
    "    elif (title in ['Lady', 'the Countess']):\n",
    "        titleC = 2\n",
    "    #younger men - from biological perspective: worth least\n",
    "    elif (title in ['Mr']):\n",
    "        titleC = 3\n",
    "    #older men - wouldnt board out of honor, too old to survive\n",
    "    elif (title in ['Rev', 'Don', 'Dr', 'Major', 'Sir', 'Col', 'Capt', 'Jonkheer']):\n",
    "        titleC = 4\n",
    "    else:\n",
    "        titleC = 5\n",
    "    return titleC\n",
    "\n",
    "train_df[\"TitleSocialStatus\"] = train_df[\"Title\"].map(lambda x: title_social_status(x))\n",
    "\n"
   ]
  },
  {
   "cell_type": "markdown",
   "metadata": {},
   "source": [
    "Convert features Sex and Embarked to numerical. Create new features"
   ]
  },
  {
   "cell_type": "code",
   "execution_count": 42,
   "metadata": {},
   "outputs": [
    {
     "name": "stdout",
     "output_type": "stream",
     "text": [
      "['female' 'male']\n",
      "[nan 'C' 'Q' 'S']\n"
     ]
    }
   ],
   "source": [
    "#convert sex to numerical - 0-woman, 1-man\n",
    "encoder = LabelEncoder()\n",
    "sex_numerical = encoder.fit_transform(train_df[\"Sex\"])\n",
    "train_df[\"SexNumerical\"] = sex_numerical\n",
    "print(encoder.classes_)\n",
    "\n",
    "#convert embarked to numerical\n",
    "encoder = LabelEncoder()\n",
    "embarked_numerical = encoder.fit_transform(train_df[\"Embarked\"])\n",
    "train_df[\"EmbarkedNumerical\"] = embarked_numerical\n",
    "print(encoder.classes_)"
   ]
  },
  {
   "cell_type": "code",
   "execution_count": 37,
   "metadata": {
    "collapsed": true
   },
   "outputs": [],
   "source": [
    "#normalizing Fare in interval from -1 to 1\n",
    "#some algorithms perform better when values are normalized\n",
    "standard_scaler = StandardScaler()\n",
    "train_df[\"FareNormalized\"] = standard_scaler.fit_transform(train_df[\"Fare\"].values.reshape(-1, 1))"
   ]
  },
  {
   "cell_type": "markdown",
   "metadata": {},
   "source": [
    "<h3>Replacing NaN in Age with -1</h3>\n",
    "\n",
    "Replacing nulls, not a number or, in general, missing values is always tricky. First thought for filling in for missing age would be to put median value using Imputer. Another would be to calculate average for men and women and place average age according to the gender. One could go further and introduce Title - for example: if a person with missing age has a title Master then we know the age was less than 18, so using average (around 33) might influence the training of the model.\n",
    "\n",
    "One approach is to create a new class for missing age with a value -1. A new feature called <i>AgeMinusOne</i> replaces NaN (Not a Number) with -1."
   ]
  },
  {
   "cell_type": "code",
   "execution_count": 38,
   "metadata": {
    "collapsed": true
   },
   "outputs": [],
   "source": [
    "#create new feature based on Age where NaN = -1\n",
    "train_df[\"AgeMinusOne\"] = train_df[\"Age\"].fillna(-1)"
   ]
  },
  {
   "cell_type": "code",
   "execution_count": 39,
   "metadata": {
    "collapsed": true
   },
   "outputs": [],
   "source": [
    "#drop non-numerical features\n",
    "#train_df = train_df.drop([\"Sex\", \"Embarked\"], axis=1)"
   ]
  },
  {
   "cell_type": "markdown",
   "metadata": {},
   "source": [
    "<h3>Viewing the first 5 lines of the dataset with the new features</h3>"
   ]
  },
  {
   "cell_type": "code",
   "execution_count": 40,
   "metadata": {
    "scrolled": true
   },
   "outputs": [
    {
     "data": {
      "text/html": [
       "<div>\n",
       "<style>\n",
       "    .dataframe thead tr:only-child th {\n",
       "        text-align: right;\n",
       "    }\n",
       "\n",
       "    .dataframe thead th {\n",
       "        text-align: left;\n",
       "    }\n",
       "\n",
       "    .dataframe tbody tr th {\n",
       "        vertical-align: top;\n",
       "    }\n",
       "</style>\n",
       "<table border=\"1\" class=\"dataframe\">\n",
       "  <thead>\n",
       "    <tr style=\"text-align: right;\">\n",
       "      <th></th>\n",
       "      <th>Survived</th>\n",
       "      <th>Pclass</th>\n",
       "      <th>Sex</th>\n",
       "      <th>Age</th>\n",
       "      <th>SibSp</th>\n",
       "      <th>Parch</th>\n",
       "      <th>Ticket</th>\n",
       "      <th>Fare</th>\n",
       "      <th>Cabin</th>\n",
       "      <th>Embarked</th>\n",
       "      <th>Title</th>\n",
       "      <th>TitleSurvivalRate</th>\n",
       "      <th>TitleSocialStatus</th>\n",
       "      <th>SexNumerical</th>\n",
       "      <th>EmbarkedNumerical</th>\n",
       "      <th>FareNormalized</th>\n",
       "      <th>AgeMinusOne</th>\n",
       "    </tr>\n",
       "  </thead>\n",
       "  <tbody>\n",
       "    <tr>\n",
       "      <th>0</th>\n",
       "      <td>0</td>\n",
       "      <td>3</td>\n",
       "      <td>male</td>\n",
       "      <td>22.0</td>\n",
       "      <td>1</td>\n",
       "      <td>0</td>\n",
       "      <td>A/5 21171</td>\n",
       "      <td>7.2500</td>\n",
       "      <td>NaN</td>\n",
       "      <td>S</td>\n",
       "      <td>Mr</td>\n",
       "      <td>5.0</td>\n",
       "      <td>3</td>\n",
       "      <td>1</td>\n",
       "      <td>3</td>\n",
       "      <td>-0.502445</td>\n",
       "      <td>22.0</td>\n",
       "    </tr>\n",
       "    <tr>\n",
       "      <th>1</th>\n",
       "      <td>1</td>\n",
       "      <td>1</td>\n",
       "      <td>female</td>\n",
       "      <td>38.0</td>\n",
       "      <td>1</td>\n",
       "      <td>0</td>\n",
       "      <td>PC 17599</td>\n",
       "      <td>71.2833</td>\n",
       "      <td>C85</td>\n",
       "      <td>C</td>\n",
       "      <td>Mrs</td>\n",
       "      <td>1.0</td>\n",
       "      <td>1</td>\n",
       "      <td>0</td>\n",
       "      <td>1</td>\n",
       "      <td>0.786845</td>\n",
       "      <td>38.0</td>\n",
       "    </tr>\n",
       "    <tr>\n",
       "      <th>2</th>\n",
       "      <td>1</td>\n",
       "      <td>3</td>\n",
       "      <td>female</td>\n",
       "      <td>26.0</td>\n",
       "      <td>0</td>\n",
       "      <td>0</td>\n",
       "      <td>STON/O2. 3101282</td>\n",
       "      <td>7.9250</td>\n",
       "      <td>NaN</td>\n",
       "      <td>S</td>\n",
       "      <td>Miss</td>\n",
       "      <td>2.0</td>\n",
       "      <td>1</td>\n",
       "      <td>0</td>\n",
       "      <td>3</td>\n",
       "      <td>-0.488854</td>\n",
       "      <td>26.0</td>\n",
       "    </tr>\n",
       "    <tr>\n",
       "      <th>3</th>\n",
       "      <td>1</td>\n",
       "      <td>1</td>\n",
       "      <td>female</td>\n",
       "      <td>35.0</td>\n",
       "      <td>1</td>\n",
       "      <td>0</td>\n",
       "      <td>113803</td>\n",
       "      <td>53.1000</td>\n",
       "      <td>C123</td>\n",
       "      <td>S</td>\n",
       "      <td>Mrs</td>\n",
       "      <td>3.0</td>\n",
       "      <td>1</td>\n",
       "      <td>0</td>\n",
       "      <td>3</td>\n",
       "      <td>0.420730</td>\n",
       "      <td>35.0</td>\n",
       "    </tr>\n",
       "    <tr>\n",
       "      <th>4</th>\n",
       "      <td>0</td>\n",
       "      <td>3</td>\n",
       "      <td>male</td>\n",
       "      <td>35.0</td>\n",
       "      <td>0</td>\n",
       "      <td>0</td>\n",
       "      <td>373450</td>\n",
       "      <td>8.0500</td>\n",
       "      <td>NaN</td>\n",
       "      <td>S</td>\n",
       "      <td>Mr</td>\n",
       "      <td>6.0</td>\n",
       "      <td>3</td>\n",
       "      <td>1</td>\n",
       "      <td>3</td>\n",
       "      <td>-0.486337</td>\n",
       "      <td>35.0</td>\n",
       "    </tr>\n",
       "  </tbody>\n",
       "</table>\n",
       "</div>"
      ],
      "text/plain": [
       "   Survived  Pclass     Sex   Age  SibSp  Parch            Ticket     Fare  \\\n",
       "0         0       3    male  22.0      1      0         A/5 21171   7.2500   \n",
       "1         1       1  female  38.0      1      0          PC 17599  71.2833   \n",
       "2         1       3  female  26.0      0      0  STON/O2. 3101282   7.9250   \n",
       "3         1       1  female  35.0      1      0            113803  53.1000   \n",
       "4         0       3    male  35.0      0      0            373450   8.0500   \n",
       "\n",
       "  Cabin Embarked Title  TitleSurvivalRate  TitleSocialStatus  SexNumerical  \\\n",
       "0   NaN        S    Mr                5.0                  3             1   \n",
       "1   C85        C   Mrs                1.0                  1             0   \n",
       "2   NaN        S  Miss                2.0                  1             0   \n",
       "3  C123        S   Mrs                3.0                  1             0   \n",
       "4   NaN        S    Mr                6.0                  3             1   \n",
       "\n",
       "   EmbarkedNumerical  FareNormalized  AgeMinusOne  \n",
       "0                  3       -0.502445         22.0  \n",
       "1                  1        0.786845         38.0  \n",
       "2                  3       -0.488854         26.0  \n",
       "3                  3        0.420730         35.0  \n",
       "4                  3       -0.486337         35.0  "
      ]
     },
     "execution_count": 40,
     "metadata": {},
     "output_type": "execute_result"
    }
   ],
   "source": [
    "train_df.head(5)"
   ]
  },
  {
   "cell_type": "markdown",
   "metadata": {},
   "source": [
    "<h3>Histogram for all numerical features</h3>"
   ]
  },
  {
   "cell_type": "code",
   "execution_count": 41,
   "metadata": {
    "scrolled": false
   },
   "outputs": [
    {
     "data": {
      "text/plain": [
       "array([[<matplotlib.axes.AxesSubplot object at 0x7f02ca1e1250>,\n",
       "        <matplotlib.axes.AxesSubplot object at 0x7f02ca039090>,\n",
       "        <matplotlib.axes.AxesSubplot object at 0x7f02c9fbc450>],\n",
       "       [<matplotlib.axes.AxesSubplot object at 0x7f02c9f23550>,\n",
       "        <matplotlib.axes.AxesSubplot object at 0x7f02c9ea8410>,\n",
       "        <matplotlib.axes.AxesSubplot object at 0x7f02c9e77fd0>],\n",
       "       [<matplotlib.axes.AxesSubplot object at 0x7f02c9e08e90>,\n",
       "        <matplotlib.axes.AxesSubplot object at 0x7f02c9dcc050>,\n",
       "        <matplotlib.axes.AxesSubplot object at 0x7f02c9cffa10>],\n",
       "       [<matplotlib.axes.AxesSubplot object at 0x7f02c9c867d0>,\n",
       "        <matplotlib.axes.AxesSubplot object at 0x7f02c9becad0>,\n",
       "        <matplotlib.axes.AxesSubplot object at 0x7f02c9b7b990>]], dtype=object)"
      ]
     },
     "execution_count": 41,
     "metadata": {},
     "output_type": "execute_result"
    },
    {
     "data": {
      "image/png": "[encoded data removed]",
      "text/plain": [
       "<matplotlib.figure.Figure at 0x7f02ca3bd250>"
      ]
     },
     "metadata": {},
     "output_type": "display_data"
    }
   ],
   "source": [
    "%matplotlib inline\n",
    "train_df.hist(bins=50, figsize=(20, 15))"
   ]
  },
  {
   "cell_type": "code",
   "execution_count": null,
   "metadata": {
    "collapsed": true
   },
   "outputs": [],
   "source": []
  }
 ],
 "metadata": {
  "kernelspec": {
   "display_name": "Python 3",
   "language": "python",
   "name": "python3"
  },
  "language_info": {
   "codemirror_mode": {
    "name": "ipython",
    "version": 3
   },
   "file_extension": ".py",
   "mimetype": "text/x-python",
   "name": "python",
   "nbconvert_exporter": "python",
   "pygments_lexer": "ipython3",
   "version": "3.5.4"
  }
 },
 "nbformat": 4,
 "nbformat_minor": 2
}
